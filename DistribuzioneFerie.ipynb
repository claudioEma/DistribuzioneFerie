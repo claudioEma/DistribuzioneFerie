{
  "nbformat": 4,
  "nbformat_minor": 0,
  "metadata": {
    "colab": {
      "provenance": [],
      "authorship_tag": "ABX9TyOfaTu4fjAX3S91Nd3KUIB1",
      "include_colab_link": true
    },
    "kernelspec": {
      "name": "python3",
      "display_name": "Python 3"
    },
    "language_info": {
      "name": "python"
    }
  },
  "cells": [
    {
      "cell_type": "markdown",
      "metadata": {
        "id": "view-in-github",
        "colab_type": "text"
      },
      "source": [
        "<a href=\"https://colab.research.google.com/github/claudioEma/DistribuzioneFerie/blob/main/DistribuzioneFerie.ipynb\" target=\"_parent\"><img src=\"https://colab.research.google.com/assets/colab-badge.svg\" alt=\"Open In Colab\"/></a>"
      ]
    },
    {
      "cell_type": "code",
      "execution_count": null,
      "metadata": {
        "colab": {
          "base_uri": "https://localhost:8080/"
        },
        "id": "UhudMnjFs-2-",
        "outputId": "dbe4d55f-35b3-46a3-bb61-ca145f20462e"
      },
      "outputs": [
        {
          "output_type": "stream",
          "name": "stdout",
          "text": [
            "Collecting pulp\n",
            "  Downloading pulp-3.2.2-py3-none-any.whl.metadata (6.9 kB)\n",
            "Downloading pulp-3.2.2-py3-none-any.whl (16.4 MB)\n",
            "\u001b[?25l   \u001b[90m━━━━━━━━━━━━━━━━━━━━━━━━━━━━━━━━━━━━━━━━\u001b[0m \u001b[32m0.0/16.4 MB\u001b[0m \u001b[31m?\u001b[0m eta \u001b[36m-:--:--\u001b[0m\r\u001b[2K   \u001b[91m╸\u001b[0m\u001b[90m━━━━━━━━━━━━━━━━━━━━━━━━━━━━━━━━━━━━━━━\u001b[0m \u001b[32m0.3/16.4 MB\u001b[0m \u001b[31m8.1 MB/s\u001b[0m eta \u001b[36m0:00:02\u001b[0m\r\u001b[2K   \u001b[91m━━━━━━━━━\u001b[0m\u001b[90m╺\u001b[0m\u001b[90m━━━━━━━━━━━━━━━━━━━━━━━━━━━━━━\u001b[0m \u001b[32m3.7/16.4 MB\u001b[0m \u001b[31m53.8 MB/s\u001b[0m eta \u001b[36m0:00:01\u001b[0m\r\u001b[2K   \u001b[91m━━━━━━━━━━━━━━━━━━━━━━━━\u001b[0m\u001b[90m╺\u001b[0m\u001b[90m━━━━━━━━━━━━━━━\u001b[0m \u001b[32m9.9/16.4 MB\u001b[0m \u001b[31m94.5 MB/s\u001b[0m eta \u001b[36m0:00:01\u001b[0m\r\u001b[2K   \u001b[91m━━━━━━━━━━━━━━━━━━━━━━━━━━━━━━━━━━━━━\u001b[0m\u001b[91m╸\u001b[0m\u001b[90m━━\u001b[0m \u001b[32m15.5/16.4 MB\u001b[0m \u001b[31m171.7 MB/s\u001b[0m eta \u001b[36m0:00:01\u001b[0m\r\u001b[2K   \u001b[91m━━━━━━━━━━━━━━━━━━━━━━━━━━━━━━━━━━━━━━━\u001b[0m\u001b[91m╸\u001b[0m \u001b[32m16.4/16.4 MB\u001b[0m \u001b[31m156.9 MB/s\u001b[0m eta \u001b[36m0:00:01\u001b[0m\r\u001b[2K   \u001b[90m━━━━━━━━━━━━━━━━━━━━━━━━━━━━━━━━━━━━━━━━\u001b[0m \u001b[32m16.4/16.4 MB\u001b[0m \u001b[31m81.2 MB/s\u001b[0m eta \u001b[36m0:00:00\u001b[0m\n",
            "\u001b[?25hInstalling collected packages: pulp\n",
            "Successfully installed pulp-3.2.2\n"
          ]
        }
      ],
      "source": [
        "pip install pulp"
      ]
    },
    {
      "cell_type": "code",
      "source": [
        "from pulp import *\n",
        "\n",
        "# Dati d'esempio\n",
        "N = 5   # persone\n",
        "T = 7   # giorni\n",
        "M = 2   # gruppi\n",
        "\n",
        "ferie_richieste = [2, 3, 2, 1, 2]     # giorni di ferie per ogni persona\n",
        "\n",
        "preferenze = [                       # punteggio gradimento per ogni persona e giorno\n",
        "    [10, 5, 0, 2, 4, 8, 6],          # persona 0\n",
        "    [0, 3, 8, 6, 1, 2, 5],           # persona 1\n",
        "    [2, 4, 6, 8, 10, 3, 1],          # persona 2\n",
        "    [5, 2, 1, 7, 8, 6, 4],           # persona 3\n",
        "    [6, 9, 4, 2, 3, 5, 7]            # persona 4\n",
        "]\n",
        "\n",
        "gruppi = [0, 0, 1, 1, 1]             # persona 0 e 1 nel gruppo 0, le altre nel gruppo 1\n",
        "\n",
        "copertura_minima = [                # per ogni gruppo e giorno\n",
        "    [1, 1, 1, 1, 1, 1, 1],           # gruppo 0\n",
        "    [2, 2, 2, 2, 2, 2, 2]            # gruppo 1\n",
        "]\n",
        "\n",
        "# Modello\n",
        "model = LpProblem(\"Pianificazione_Ferie\", LpMaximize)\n",
        "\n",
        "# Variabili binarie: x[i,d] = 1 se persona i ha ferie nel giorno d\n",
        "x = LpVariable.dicts(\"x\", [(i, d) for i in range(N) for d in range(T)], cat=\"Binary\")\n",
        "\n",
        "# Funzione obiettivo: massimizzare il gradimento complessivo\n",
        "model += lpSum(preferenze[i][d] * x[(i, d)] for i in range(N) for d in range(T))\n",
        "\n",
        "# Vincolo: ogni persona deve avere esattamente il numero di giorni di ferie richiesti\n",
        "for i in range(N):\n",
        "    model += lpSum(x[(i, d)] for d in range(T)) == ferie_richieste[i]\n",
        "\n",
        "# Vincolo: copertura minima per gruppo per ogni giorno\n",
        "for g in range(M):\n",
        "    persone_nel_gruppo = [i for i in range(N) if gruppi[i] == g]\n",
        "    for d in range(T):\n",
        "        model += lpSum(x[(i, d)] for i in persone_nel_gruppo) <= len(persone_nel_gruppo) - copertura_minima[g][d]\n",
        "\n",
        "# Risoluzione\n",
        "model.solve()\n",
        "\n",
        "# Output: ferie assegnate\n",
        "for i in range(N):\n",
        "    giorni = [d for d in range(T) if value(x[(i, d)]) == 1]\n",
        "    print(f\"Persona {i} (gruppo {gruppi[i]}) ha ferie nei giorni: {giorni}\")\n"
      ],
      "metadata": {
        "colab": {
          "base_uri": "https://localhost:8080/"
        },
        "id": "a2FA3EHxteOd",
        "outputId": "f1c8659f-d6a5-4eb2-9cd1-7f6290ede52d"
      },
      "execution_count": null,
      "outputs": [
        {
          "output_type": "stream",
          "name": "stdout",
          "text": [
            "Persona 0 (gruppo 0) ha ferie nei giorni: [0, 5]\n",
            "Persona 1 (gruppo 0) ha ferie nei giorni: [2, 3, 6]\n",
            "Persona 2 (gruppo 1) ha ferie nei giorni: [3, 4]\n",
            "Persona 3 (gruppo 1) ha ferie nei giorni: [5]\n",
            "Persona 4 (gruppo 1) ha ferie nei giorni: [1, 6]\n"
          ]
        }
      ]
    }
  ]
}