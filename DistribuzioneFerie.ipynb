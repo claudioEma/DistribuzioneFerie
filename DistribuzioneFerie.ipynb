{
  "nbformat": 4,
  "nbformat_minor": 0,
  "metadata": {
    "colab": {
      "provenance": [],
      "authorship_tag": "ABX9TyPDshCBI1fNKZTSLBIqBGzD",
      "include_colab_link": true
    },
    "kernelspec": {
      "name": "python3",
      "display_name": "Python 3"
    },
    "language_info": {
      "name": "python"
    }
  },
  "cells": [
    {
      "cell_type": "markdown",
      "metadata": {
        "id": "view-in-github",
        "colab_type": "text"
      },
      "source": [
        "<a href=\"https://colab.research.google.com/github/claudioEma/DistribuzioneFerie/blob/main/DistribuzioneFerie.ipynb\" target=\"_parent\"><img src=\"https://colab.research.google.com/assets/colab-badge.svg\" alt=\"Open In Colab\"/></a>"
      ]
    },
    {
      "cell_type": "code",
      "execution_count": 2,
      "metadata": {
        "colab": {
          "base_uri": "https://localhost:8080/"
        },
        "id": "UhudMnjFs-2-",
        "outputId": "125cb71c-cf70-4e9d-f590-dcdfbaf11407"
      },
      "outputs": [
        {
          "output_type": "stream",
          "name": "stdout",
          "text": [
            "Collecting pulp\n",
            "  Downloading pulp-3.2.2-py3-none-any.whl.metadata (6.9 kB)\n",
            "Downloading pulp-3.2.2-py3-none-any.whl (16.4 MB)\n",
            "\u001b[2K   \u001b[90m━━━━━━━━━━━━━━━━━━━━━━━━━━━━━━━━━━━━━━━━\u001b[0m \u001b[32m16.4/16.4 MB\u001b[0m \u001b[31m60.1 MB/s\u001b[0m eta \u001b[36m0:00:00\u001b[0m\n",
            "\u001b[?25hInstalling collected packages: pulp\n",
            "Successfully installed pulp-3.2.2\n"
          ]
        }
      ],
      "source": [
        "pip install pulp"
      ]
    },
    {
      "cell_type": "code",
      "source": [
        "from pulp import *\n",
        "\n",
        "# Dati d'esempio\n",
        "N = 5   # persone\n",
        "T = 7   # giorni\n",
        "M = 2   # gruppi\n",
        "\n",
        "ferie_richieste = [2, 3, 2, 1, 2]     # giorni di ferie per ogni persona\n",
        "\n",
        "preferenze = [                       # punteggio gradimento per ogni persona e giorno\n",
        "    [10, 5, 0, 2, 4, 8, 6],          # persona 0\n",
        "    [0, 3, 8, 6, 1, 2, 5],           # persona 1\n",
        "    [2, 4, 6, 8, 10, 3, 1],          # persona 2\n",
        "    [5, 2, 1, 7, 8, 6, 4],           # persona 3\n",
        "    [6, 9, 4, 2, 3, 5, 7]            # persona 4\n",
        "]\n",
        "\n",
        "gruppi = [0, 0, 1, 1, 1]             # persona 0 e 1 nel gruppo 0, le altre nel gruppo 1\n",
        "\n",
        "copertura_minima = [                # per ogni gruppo e giorno\n",
        "    [1, 1, 1, 1, 1, 1, 1],           # gruppo 0\n",
        "    [2, 2, 2, 2, 2, 2, 2]            # gruppo 1\n",
        "]\n",
        "\n",
        "# Modello\n",
        "model = LpProblem(\"Pianificazione_Ferie\", LpMaximize)\n",
        "\n",
        "# Variabili binarie: x[i,d] = 1 se persona i ha ferie nel giorno d\n",
        "x = LpVariable.dicts(\"x\", [(i, d) for i in range(N) for d in range(T)], cat=\"Binary\")\n",
        "\n",
        "# Funzione obiettivo: massimizzare il gradimento complessivo\n",
        "model += lpSum(preferenze[i][d] * x[(i, d)] for i in range(N) for d in range(T))\n",
        "\n",
        "# Vincolo: ogni persona deve avere esattamente il numero di giorni di ferie richiesti\n",
        "for i in range(N):\n",
        "    model += lpSum(x[(i, d)] for d in range(T)) == ferie_richieste[i]\n",
        "\n",
        "# Vincolo: copertura minima per gruppo per ogni giorno\n",
        "for g in range(M):\n",
        "    persone_nel_gruppo = [i for i in range(N) if gruppi[i] == g]\n",
        "    for d in range(T):\n",
        "        model += lpSum(x[(i, d)] for i in persone_nel_gruppo) <= len(persone_nel_gruppo) - copertura_minima[g][d]\n",
        "\n",
        "# Risoluzione\n",
        "model.solve()\n",
        "\n",
        "# Output: ferie assegnate\n",
        "for i in range(N):\n",
        "    giorni = [d for d in range(T) if value(x[(i, d)]) == 1]\n",
        "    print(f\"Persona {i} (gruppo {gruppi[i]}) ha ferie nei giorni: {giorni}\")\n"
      ],
      "metadata": {
        "colab": {
          "base_uri": "https://localhost:8080/"
        },
        "id": "a2FA3EHxteOd",
        "outputId": "df5b3f42-a9b2-443a-a9a0-4b645d6c006f"
      },
      "execution_count": 3,
      "outputs": [
        {
          "output_type": "stream",
          "name": "stdout",
          "text": [
            "Persona 0 (gruppo 0) ha ferie nei giorni: [0, 5]\n",
            "Persona 1 (gruppo 0) ha ferie nei giorni: [2, 3, 6]\n",
            "Persona 2 (gruppo 1) ha ferie nei giorni: [3, 4]\n",
            "Persona 3 (gruppo 1) ha ferie nei giorni: [5]\n",
            "Persona 4 (gruppo 1) ha ferie nei giorni: [1, 6]\n"
          ]
        }
      ]
    },
    {
      "cell_type": "code",
      "source": [
        "# Verifica vincolo: ogni persona deve avere esattamente il numero di giorni di\n",
        "# ferie richiesti\n",
        "\n",
        "for i in range(N):\n",
        "  assert sum(x[(i, d)].varValue for d in range(T)) == ferie_richieste[i], f\"La persona {i} ha {x[i,d].varValue} giorni di ferie invece di {ferie_richieste[i]}\""
      ],
      "metadata": {
        "id": "4X7uxShr80Mu"
      },
      "execution_count": 20,
      "outputs": []
    },
    {
      "cell_type": "code",
      "source": [
        "# Verifica vincolo: copertura minima per gruppo per ogni giorno\n",
        "\n",
        "for g in range(M):\n",
        "    persone_nel_gruppo = [i for i in range(N) if gruppi[i] == g]\n",
        "    for d in range(T):\n",
        "        inFerie = sum(x[(i, d)].varValue for i in persone_nel_gruppo) # numero di persone del gruppo g che sono in ferie il giorno d\n",
        "        nonInFerie = len(persone_nel_gruppo) - inFerie # numero di persone del gruppo g che non sono in ferie il giorno d\n",
        "        maxInFerie = len(persone_nel_gruppo) - copertura_minima[g][d] # massimo numero di persone del gruppo g che possono andare in ferie il giorno d\n",
        "        assert inFerie <= maxInFerie, f\"Il giorno {d} il gruppo {g} ha solo {nonInFerie} persone ma la copertura minima richiesta è {copertura_minima[g][d]} persone\"\n"
      ],
      "metadata": {
        "id": "-YbZbAclAOtE"
      },
      "execution_count": 23,
      "outputs": []
    },
    {
      "cell_type": "code",
      "source": [
        "# Verifica qualità soluzione\n",
        "\n",
        "maxConVincoli = sum(preferenze[i][d] * x[(i, d)].varValue for i in range(N) for d in range(T))\n",
        "\n",
        "maxSenzaVincoli = 0\n",
        "for i in range(N):\n",
        "  maxSenzaVincoli += sum(sorted(preferenze[i], reverse=True)[:ferie_richieste[i]])\n",
        "\n",
        "print(f\"Valore della soluzione trovata: {maxConVincoli}\")\n",
        "print(f\"Valore massimo ottenibile rimuovendo il vincolo della copertura: {maxSenzaVincoli}\")\n",
        "print(f\"Gradimento generale soluzione: {maxConVincoli/maxSenzaVincoli:.3f}\")"
      ],
      "metadata": {
        "id": "d0mNUk3rCdGp",
        "outputId": "673d2950-0d04-4774-894a-708b96030281",
        "colab": {
          "base_uri": "https://localhost:8080/"
        }
      },
      "execution_count": 28,
      "outputs": [
        {
          "output_type": "stream",
          "name": "stdout",
          "text": [
            "Valore della soluzione trovata: 77.0\n",
            "Valore massimo ottenibile rimuovendo il vincolo della copertura: 79\n",
            "Gradimento generale soluzione: 0.975\n"
          ]
        }
      ]
    }
  ]
}